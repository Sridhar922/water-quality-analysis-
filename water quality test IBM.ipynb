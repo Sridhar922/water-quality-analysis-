{
 "cells": [
  {
   "cell_type": "markdown",
   "id": "68f841ed",
   "metadata": {},
   "source": [
    "# DataScience tools and Water Quality Test"
   ]
  },
  {
   "cell_type": "markdown",
   "id": "f734e6f9",
   "metadata": {},
   "source": [
    "### Introduction to water quality test\n",
    "### Access to safe drinking-water is essential to health, a basic human right and a component of effective policy for health protection.\n",
    "### This is important as a health and development issue at a national, regional and local level.\n",
    "### In some regions, it has been shown that investments in water supply and sanitation can yield a net economic benefit, since the reductions in adverse health effects and health care costs outweigh the costs of undertaking the interventions.\n",
    "\n",
    "### Datascience tools used in anlaysis of Water quality test like Python, R, Jupyter notebook"
   ]
  },
  {
   "cell_type": "code",
   "execution_count": null,
   "id": "9bf03c30",
   "metadata": {},
   "outputs": [],
   "source": []
  },
  {
   "cell_type": "markdown",
   "id": "ebd2a2c9",
   "metadata": {},
   "source": [
    "## Datascience Languages \n",
    "### 1. Python : Python is known for its versatility and easier learning curve, compared to other languages. While the easier learning curve comes mostly from the clean and simple syntax, the versatility is in the number of open-source libraries, which enable you to do many things\n",
    "### 2. R Language : which will provide great flexibility for performing data science activities.\n",
    "### 3. SQL: Structured Query Language"
   ]
  },
  {
   "cell_type": "code",
   "execution_count": null,
   "id": "531a682b",
   "metadata": {},
   "outputs": [],
   "source": []
  },
  {
   "cell_type": "markdown",
   "id": "dc8d81a6",
   "metadata": {},
   "source": [
    "## Datascience Libraries:\n",
    "### Python libraries for data science that can help you with different tasks such as data scraping, data cleaning, data processing, data modeling, data visualization, and more. Some of the most popular and widely used Python libraries for data science are:\n",
    "\n",
    "\n",
    "### NumPy and Pandas for numerical computation, data manipulation, and data analysis13245.\n",
    "### SciPy for scientific computing and various modules for linear algebra, integration, optimization, and statistics1324.\n",
    "### Scikit-learn, TensorFlow, PyTorch, Keras, and XGBoost for machine learning and deep learning13245.\n",
    "### Matplotlib, Seaborn, Plotly, and Bokeh for data visualization and interactive plots"
   ]
  },
  {
   "cell_type": "code",
   "execution_count": null,
   "id": "23c8a130",
   "metadata": {},
   "outputs": [],
   "source": []
  },
  {
   "cell_type": "markdown",
   "id": "9537e86d",
   "metadata": {},
   "source": [
    "## Datascience Tools:\n",
    "### Data science tools are software applications or frameworks that help data science professionals perform various tasks such as data analysis, data cleansing, data visualization, data mining, data reporting, and data filtering.\n",
    "### Python: open-source libraries and packages that enable you to perform various data science operations such as data manipulation, machine learning, statistical analysis, and data visualization which uses libraires like pandas, numpy , matplotlib, seaborn etc..,\n",
    "### R language: open-source libraries used in statistical applications, data visulaizations and machine Learning. packages like ggplot2, caret etc..,\n",
    "### Jupyter Notebook which runs the code and  create the visuzalization, that can be reused "
   ]
  },
  {
   "cell_type": "code",
   "execution_count": null,
   "id": "b21ed5b7",
   "metadata": {},
   "outputs": [],
   "source": []
  },
  {
   "cell_type": "markdown",
   "id": "9918997e",
   "metadata": {},
   "source": [
    "# Arthimetic Expressions\n",
    "### An arithmetic expression is a combination of numbers, variables, and operators that can be evaluated to a single value.\n",
    "\n",
    "### It includes parenteses, exponents, multiplication, addition, substraction and division"
   ]
  },
  {
   "cell_type": "code",
   "execution_count": 3,
   "id": "030635c1",
   "metadata": {},
   "outputs": [
    {
     "name": "stdout",
     "output_type": "stream",
     "text": [
      "7\n",
      "12\n"
     ]
    }
   ],
   "source": [
    "a = 3\n",
    "b = 4\n",
    "c= a+b #addition\n",
    "d= a*b #multiplication\n",
    "\n",
    "print(c)\n",
    "print(d)"
   ]
  },
  {
   "cell_type": "code",
   "execution_count": 4,
   "id": "346ffbe5",
   "metadata": {},
   "outputs": [
    {
     "name": "stdout",
     "output_type": "stream",
     "text": [
      "03:02\n"
     ]
    }
   ],
   "source": [
    "# convert minutes to hours\n",
    "\n",
    "minutes = 182\n",
    "print(\"%02d:%02d\" % (divmod(minutes, 60)))"
   ]
  },
  {
   "cell_type": "code",
   "execution_count": null,
   "id": "9b994d58",
   "metadata": {},
   "outputs": [],
   "source": []
  },
  {
   "cell_type": "markdown",
   "id": "49ee474e",
   "metadata": {},
   "source": [
    "# Project Objectives:\n",
    "### 1. Main goal is to develop quality water for drinking.\n",
    "### 2.Buy a home testing kit and dip each testing strip into a glass of tap water. Use the chart that came with the kit to determine your water quality.\n",
    "### 3. pH,Turbidity and Temperature sensors are used to gather the parameters necessary to monitor water health in real time\n",
    "### 4.Send alert messages when any discrepancies are found in the water quality."
   ]
  },
  {
   "cell_type": "code",
   "execution_count": null,
   "id": "ff83efb6",
   "metadata": {},
   "outputs": [],
   "source": []
  },
  {
   "cell_type": "markdown",
   "id": "5b60e9f4",
   "metadata": {},
   "source": [
    "# Author: \n",
    "## Sridhar Mekala"
   ]
  },
  {
   "cell_type": "code",
   "execution_count": null,
   "id": "01b5b95a",
   "metadata": {},
   "outputs": [],
   "source": []
  },
  {
   "cell_type": "code",
   "execution_count": null,
   "id": "d3c02636",
   "metadata": {},
   "outputs": [],
   "source": []
  },
  {
   "cell_type": "code",
   "execution_count": null,
   "id": "df43fd83",
   "metadata": {},
   "outputs": [],
   "source": []
  }
 ],
 "metadata": {
  "kernelspec": {
   "display_name": "Python 3 (ipykernel)",
   "language": "python",
   "name": "python3"
  },
  "language_info": {
   "codemirror_mode": {
    "name": "ipython",
    "version": 3
   },
   "file_extension": ".py",
   "mimetype": "text/x-python",
   "name": "python",
   "nbconvert_exporter": "python",
   "pygments_lexer": "ipython3",
   "version": "3.9.12"
  }
 },
 "nbformat": 4,
 "nbformat_minor": 5
}
